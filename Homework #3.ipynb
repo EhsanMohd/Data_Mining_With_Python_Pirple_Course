{
 "cells": [
  {
   "cell_type": "code",
   "execution_count": 2,
   "metadata": {},
   "outputs": [],
   "source": [
    "import pyspark as ps\n",
    "\n",
    "spark = ps.sql.SparkSession.builder \\\n",
    "    .master('local[2]') \\\n",
    "    .appName('spark-ml') \\\n",
    "    .getOrCreate()\n",
    "\n",
    "sc = spark.sparkContext"
   ]
  },
  {
   "cell_type": "code",
   "execution_count": 37,
   "metadata": {},
   "outputs": [
    {
     "name": "stdout",
     "output_type": "stream",
     "text": [
      "734\n"
     ]
    }
   ],
   "source": [
    "import random \n",
    "\n",
    "n = 100\n",
    "\n",
    "sum1 = (sc.parallelize(range(n))\n",
    "    .map(lambda _ : random.randint(1,6)+random.randint(1,6))\n",
    "    .sum())\n",
    "\n",
    "print(sum1)"
   ]
  },
  {
   "cell_type": "code",
   "execution_count": 29,
   "metadata": {},
   "outputs": [],
   "source": [
    "sum1 = sc.parallelize(range(n)).map(lambda x: random.randint(1,6)).collect()\n",
    "sum2 = sc.parallelize(range(n)).map(lambda x: random.randint(1,6)).collect()"
   ]
  },
  {
   "cell_type": "code",
   "execution_count": 30,
   "metadata": {},
   "outputs": [
    {
     "name": "stdout",
     "output_type": "stream",
     "text": [
      "[5, 6, 2, 1, 3, 6, 1, 2, 2, 3, 5, 4, 3, 5, 3, 1, 1, 3, 2, 2, 4, 5, 4, 3, 2, 5, 2, 1, 6, 3, 1, 3, 1, 1, 5, 1, 2, 6, 2, 3, 4, 5, 3, 1, 1, 6, 1, 2, 3, 1, 5, 2, 1, 6, 6, 1, 5, 4, 6, 1, 5, 1, 6, 3, 4, 1, 1, 1, 3, 6, 3, 3, 1, 3, 6, 3, 4, 2, 6, 6, 4, 1, 5, 6, 5, 6, 2, 2, 5, 2, 6, 2, 4, 6, 4, 3, 4, 1, 3, 3]\n",
      "[5, 4, 3, 4, 3, 6, 6, 6, 5, 6, 6, 2, 6, 5, 6, 1, 3, 2, 3, 6, 6, 4, 6, 6, 4, 6, 1, 6, 6, 1, 2, 4, 1, 5, 6, 5, 5, 3, 6, 2, 3, 2, 4, 6, 2, 6, 3, 3, 2, 4, 6, 5, 2, 4, 1, 6, 6, 5, 1, 3, 2, 6, 4, 5, 6, 3, 3, 4, 3, 2, 2, 4, 2, 4, 1, 1, 4, 3, 4, 4, 1, 2, 2, 6, 1, 3, 4, 5, 3, 1, 2, 4, 5, 2, 6, 3, 2, 2, 1, 4]\n"
     ]
    }
   ],
   "source": [
    "print(sum1)\n",
    "print(sum2)"
   ]
  },
  {
   "cell_type": "code",
   "execution_count": 36,
   "metadata": {},
   "outputs": [
    {
     "data": {
      "image/png": "[encoded data removed]",
      "text/plain": [
       "<Figure size 432x288 with 1 Axes>"
      ]
     },
     "metadata": {
      "needs_background": "light"
     },
     "output_type": "display_data"
    },
    {
     "data": {
      "image/png": "[encoded data removed]",
      "text/plain": [
       "<Figure size 432x288 with 1 Axes>"
      ]
     },
     "metadata": {
      "needs_background": "light"
     },
     "output_type": "display_data"
    }
   ],
   "source": [
    "import numpy as np\n",
    "from matplotlib import pyplot as plt\n",
    "\n",
    "bins = np.arange(1, 8, 1) # fixed bin size\n",
    "\n",
    "plt.hist(sum1, bins=bins, alpha=0.5)\n",
    "plt.title('simulation results 1')\n",
    "plt.xlabel('possible outcomes')\n",
    "plt.ylabel('count')\n",
    "\n",
    "plt.show()\n",
    "plt.hist(sum2, bins=bins, alpha=0.5)\n",
    "plt.title('simulation results 2')\n",
    "plt.xlabel('possible outcomes')\n",
    "plt.ylabel('count')\n",
    "\n",
    "plt.show()"
   ]
  },
  {
   "cell_type": "code",
   "execution_count": null,
   "metadata": {},
   "outputs": [],
   "source": []
  }
 ],
 "metadata": {
  "kernelspec": {
   "display_name": "Python 3",
   "language": "python",
   "name": "python3"
  },
  "language_info": {
   "codemirror_mode": {
    "name": "ipython",
    "version": 3
   },
   "file_extension": ".py",
   "mimetype": "text/x-python",
   "name": "python",
   "nbconvert_exporter": "python",
   "pygments_lexer": "ipython3",
   "version": "3.8.3"
  }
 },
 "nbformat": 4,
 "nbformat_minor": 4
}
